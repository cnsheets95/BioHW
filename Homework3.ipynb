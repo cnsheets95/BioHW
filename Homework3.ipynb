{
 "cells": [
  {
   "cell_type": "markdown",
   "metadata": {},
   "source": [
    "# Jypyter Notebooks and Python Refresh Homework 3\n",
    "We are going to do the Python Refresh Homework in a juypyter Notebook. In this homework we will review the basic principles of python programming. You will work through a few questions and build some scripts. You will need the Bloom et al Dataset found in this repository. For each question add a cell to put your answer in either as a text cell or a code cell following the question.\n",
    "\n",
    "### Markdown\n",
    "Here is a [markdown refresh](https://programminghistorian.org/en/lessons/getting-started-with-markdown)\n",
    "\n",
    "### General concepts to refresh and lessons to review if you need them:\n",
    "\n",
    "Here is a nice [Python_Refresh](https://pythonforbiologists.com/introduction) that goes over the majority of the basic python commands.\n",
    "\n",
    "Remember these Primers from Last Semester\n",
    "\n",
    "[Python_Primer1](https://github.com/tparchman/BIOL792_course_site/blob/master/week6_pythonI/python_1_primer.md) \n",
    "\n",
    "[Lists_for_loops](https://github.com/tparchman/BIOL792_course_site/blob/master/week7_pythonII/python_2_primer.md)\n",
    "\n",
    "[Input_Output](https://github.com/tparchman/BIOL792_course_site/blob/master/week8_python3/python_3_primer.md)\n",
    "\n",
    "[Dictionaries](https://github.com/tparchman/BIOL792_course_site/blob/master/week11_python6/primer_python6.md)\n",
    "\n",
    "\n",
    "### Remember these Common commands as you work through this exercise\n",
    "\tdata types\n",
    "\tlists and dictionaries \n",
    "\tif while and for loops\n",
    "\treading files\n",
    "\n"
   ]
  },
  {
   "cell_type": "markdown",
   "metadata": {},
   "source": [
    "## Part I: Questions"
   ]
  },
  {
   "cell_type": "markdown",
   "metadata": {},
   "source": [
    "1.\tName one of the basic building blocks of programming and a small definition."
   ]
  },
  {
   "cell_type": "markdown",
   "metadata": {},
   "source": [
    "    Arguments: values that are sent to the program when you run it"
   ]
  },
  {
   "cell_type": "markdown",
   "metadata": {},
   "source": [
    "2.\tMatch the data type to the appropriate data\n",
    "    \n",
    "    **Data type:** string, integer, boolean, floating point\n",
    "    \n",
    "    **Data:** true, 123, 'I am a programmer', 34.63221\n"
   ]
  },
  {
   "cell_type": "markdown",
   "metadata": {},
   "source": [
    "    [string, I am a programmer]\n",
    "\n",
    "    [integer, 123]  \n",
    "\n",
    "    [boolean, true]\n",
    "\n",
    "    [floating point, 34.63221]"
   ]
  },
  {
   "cell_type": "markdown",
   "metadata": {},
   "source": [
    "3.\tWhat would I get if I did tried to add these to numbers together ```123``` and ```5```.\n",
    "\t\t\n",
    "\t\ta) if the numbers were formatted as strings\n",
    "\t\t\n",
    "\t\tb) if they were formatted as integers"
   ]
  },
  {
   "cell_type": "markdown",
   "metadata": {},
   "source": [
    "    a) 1235 "
   ]
  },
  {
   "cell_type": "markdown",
   "metadata": {},
   "source": [
    "    b)128"
   ]
  },
  {
   "cell_type": "markdown",
   "metadata": {},
   "source": [
    "4.\tLists, also called vectors, are one dimensional arrays and are a series of items. From the following list what would the question ```apple_list[3]``` return?  Remember we refer to items in a list by their position. Hint – remember how computers count.\n",
    "\t\t\n",
    "\t\t```apple_list=[‘banana’,’pear’,’kumquat’,’pomegranate’,’passion fruit’]```"
   ]
  },
  {
   "cell_type": "markdown",
   "metadata": {},
   "source": [
    "    Pomegranate"
   ]
  },
  {
   "cell_type": "markdown",
   "metadata": {},
   "source": [
    "5.\tName a difference between lists and dictionaries?"
   ]
  },
  {
   "cell_type": "markdown",
   "metadata": {},
   "source": [
    "    lists: one dimensional arrays\n",
    "\n",
    "    dictionaries: an associative array; gives a key for values"
   ]
  },
  {
   "cell_type": "markdown",
   "metadata": {},
   "source": [
    "6.\tWhat would you get from this question from the following dictionary:  ```fruit_dict[‘pear’]```\n",
    "```\t\t\n",
    "\t\tfruit_dict = {}\n",
    "\t\tfruit_dict[‘apple’]=10\n",
    "\t\tfruit_dict[‘pear’] = 3\n",
    "\t\tfruit_dict[‘walnut’]=216\n",
    "```\n",
    "or in another way\n",
    "\n",
    "\n",
    "```\n",
    "fruit_dict = {\n",
    "    'apple':10,\n",
    "    'pear':3,\n",
    "    'walnut':216,\n",
    "}\n",
    "\n",
    "print(fruit_dict)\n",
    "```\n",
    "\n"
   ]
  },
  {
   "cell_type": "code",
   "execution_count": 2,
   "metadata": {},
   "outputs": [
    {
     "name": "stdout",
     "output_type": "stream",
     "text": [
      "{'apple': 10, 'pear': 3, 'walnut': 216}\n"
     ]
    }
   ],
   "source": [
    "fruit_dict = {\n",
    "    'apple':10,\n",
    "    'pear':3,\n",
    "    'walnut':216,\n",
    "}\n",
    "\n",
    "print(fruit_dict)"
   ]
  },
  {
   "cell_type": "markdown",
   "metadata": {},
   "source": [
    "fruit_dict['pear'] would give 3\n",
    "\n",
    "or\n",
    "\n",
    "print(fruit_dict) would print the keys and their values that are in the fruit dictionary we created (see code output above)"
   ]
  },
  {
   "cell_type": "markdown",
   "metadata": {},
   "source": [
    "7.\tIn python what does the function ```.replace()``` do?"
   ]
  },
  {
   "cell_type": "markdown",
   "metadata": {},
   "source": [
    "it replaces any old strings matching your specification with a new string"
   ]
  },
  {
   "cell_type": "markdown",
   "metadata": {},
   "source": [
    "8.\tHow do you print something in python?  For example write a print statement to print “hello world!”"
   ]
  },
  {
   "cell_type": "code",
   "execution_count": 3,
   "metadata": {},
   "outputs": [
    {
     "name": "stdout",
     "output_type": "stream",
     "text": [
      "hello world!\n"
     ]
    }
   ],
   "source": [
    "print(\"hello world!\")"
   ]
  },
  {
   "cell_type": "markdown",
   "metadata": {},
   "source": [
    "9.\tName one place you can go to get help with python?"
   ]
  },
  {
   "cell_type": "code",
   "execution_count": null,
   "metadata": {},
   "outputs": [],
   "source": [
    "help()"
   ]
  },
  {
   "cell_type": "markdown",
   "metadata": {},
   "source": [
    "10.\tWhat is an ```if``` statement and when would you use one?"
   ]
  },
  {
   "cell_type": "markdown",
   "metadata": {},
   "source": [
    "A flow control component that runs a function or command if it determines a statement is true"
   ]
  },
  {
   "cell_type": "markdown",
   "metadata": {},
   "source": [
    "11.\tFrom this list:  ```container_list = [‘can’,’jar’,’hat’]``` What would be returned from this: ```container_list[0:2]```.  Hint: Remember one number is inclusive and one exclusive."
   ]
  },
  {
   "cell_type": "code",
   "execution_count": 9,
   "metadata": {},
   "outputs": [
    {
     "data": {
      "text/plain": [
       "['can', 'jar']"
      ]
     },
     "execution_count": 9,
     "metadata": {},
     "output_type": "execute_result"
    }
   ],
   "source": [
    "container_list = ['can', 'jar', 'hat']\n",
    "container_list[0:2]"
   ]
  },
  {
   "cell_type": "markdown",
   "metadata": {},
   "source": [
    "For some reason the output isn't showing when I ran the above code here in jupyter. But it gives the output of ['can', 'jar']."
   ]
  },
  {
   "cell_type": "markdown",
   "metadata": {},
   "source": [
    "12.\tWhat is the difference between an ```if``` statement and a ```while``` loop?\n"
   ]
  },
  {
   "cell_type": "markdown",
   "metadata": {},
   "source": [
    "An if statement will only carry out the commands if the statement is true; whereas the while loop will repeatedly loop the commands through a dataframe as long as the condition remains true. "
   ]
  },
  {
   "cell_type": "markdown",
   "metadata": {},
   "source": [
    "13.\tWhat would you get with the command ```fruit_dict.keys()```  after entering this dictionary:  \n",
    "\t\tfruit_dict = {}\n",
    "\t\tfruit_dict[‘apple’]=10\n",
    "\t\tfruit_dict[‘pear’] = 3\n",
    "\t\tfruit_dict[‘walnut’]=216"
   ]
  },
  {
   "cell_type": "code",
   "execution_count": 14,
   "metadata": {},
   "outputs": [],
   "source": [
    "fruit_dict = {} \n",
    "fruit_dict['apple']=10 \n",
    "fruit_dict['pear'] = 3 \n",
    "fruit_dict['walnut']=216"
   ]
  },
  {
   "cell_type": "code",
   "execution_count": 15,
   "metadata": {},
   "outputs": [
    {
     "data": {
      "text/plain": [
       "dict_keys(['apple', 'pear', 'walnut'])"
      ]
     },
     "execution_count": 15,
     "metadata": {},
     "output_type": "execute_result"
    }
   ],
   "source": [
    "fruit_dict.keys()"
   ]
  },
  {
   "cell_type": "markdown",
   "metadata": {},
   "source": [
    "you would get a return of the keys in the dictionary apple, pear, and walnut"
   ]
  },
  {
   "cell_type": "markdown",
   "metadata": {},
   "source": [
    "14.\tIn this statement: ```InFileName = open(InFileName, ‘r’)``` what does the ‘r’ indicate ?"
   ]
  },
  {
   "cell_type": "markdown",
   "metadata": {},
   "source": [
    "r stands for files that are readable"
   ]
  },
  {
   "cell_type": "markdown",
   "metadata": {},
   "source": [
    "15.\tWhat does this command do? ```Line.strip(‘\\n’)``` why would you use it when printing out lines to the screen?"
   ]
  },
  {
   "cell_type": "markdown",
   "metadata": {},
   "source": [
    "\\n strips the line endings so that the returns that are put on the end of a line by default are not read as something meaningful, which leads to an empty line"
   ]
  },
  {
   "cell_type": "markdown",
   "metadata": {},
   "source": [
    "16.\tHow would you split a line from a csv file into a list"
   ]
  },
  {
   "cell_type": "markdown",
   "metadata": {},
   "source": [
    "use the split and separate function that separates by a comma "
   ]
  },
  {
   "cell_type": "markdown",
   "metadata": {},
   "source": [
    "## Part II:  Practice Scripts\n",
    "Below each question write the name of the script so I can find them. All scripts should be documented with in-line documentation."
   ]
  },
  {
   "cell_type": "markdown",
   "metadata": {},
   "source": [
    "1.\tCreate a documented python script that would \n",
    "\n",
    "\t\t**a.** take this number 112345678911234566 and count the number of 2s in the string and print out the number. \n",
    "\n",
    "\t\t**b.** take a sentence from user input, turn it all to lowercase letters and remove the spaces and count the length and print out the length.  You choose the sentence. \n"
   ]
  },
  {
   "cell_type": "markdown",
   "metadata": {},
   "source": [
    "Script Name:\n",
    "\n",
    "sheets_HW3_Q1.py"
   ]
  },
  {
   "cell_type": "code",
   "execution_count": 16,
   "metadata": {
    "scrolled": true
   },
   "outputs": [
    {
     "name": "stdout",
     "output_type": "stream",
     "text": [
      "2\n"
     ]
    }
   ],
   "source": [
    "a = \"112345678911234566\"\n",
    "print(a.count(\"2\"))"
   ]
  },
  {
   "cell_type": "code",
   "execution_count": 46,
   "metadata": {},
   "outputs": [
    {
     "name": "stdout",
     "output_type": "stream",
     "text": [
      "Type Sentence HereThere IS A sANdwich shoe\n",
      "there is a sandwich shoe\n",
      "thereisasandwichshoe\n",
      "20\n"
     ]
    }
   ],
   "source": [
    "\n",
    "import re\n",
    "b = input(\"Type Sentence Here\")\n",
    "b1 = b.lower()\n",
    "print(b1)\n",
    "b2 = re.sub(\"\\s\", \"\", b1)\n",
    "print(b2)\n",
    "print(len(b2))"
   ]
  },
  {
   "cell_type": "markdown",
   "metadata": {},
   "source": [
    "2.\tCreate a documented python script that will do the following two things. For each task, first write the pseudocode, comment out the pseudocode and beneath the pseudocode write the script.\n",
    "\n",
    "\t\t**a.** Create a list of numbers (any numbers you like). Then loop through the items in the list adding 1 to every number and print those numbers.\n",
    "\n",
    "\t\t**b.** Create a dictionary of animals and their sizes (make up whatever you want). Print out the keys of the dictionary. Make a list of all the animals and then write an if else statement to print out the animal name and the word “big” if the weight is over 20 grams and the word “small” if the weight is less than 20 grams. "
   ]
  },
  {
   "cell_type": "markdown",
   "metadata": {},
   "source": [
    "Script Name:\n",
    "\n",
    "sheets_HW3_Q2.py"
   ]
  },
  {
   "cell_type": "code",
   "execution_count": 51,
   "metadata": {
    "scrolled": true
   },
   "outputs": [
    {
     "name": "stdout",
     "output_type": "stream",
     "text": [
      "46\n",
      "466\n",
      "165\n",
      "90\n"
     ]
    }
   ],
   "source": [
    "list1 = [45,465,164,89]\n",
    "for x in list1:\n",
    "    l1= x+1\n",
    "    print(l1)\n",
    "    \n"
   ]
  },
  {
   "cell_type": "code",
   "execution_count": 52,
   "metadata": {},
   "outputs": [],
   "source": [
    "an_dict = {}\n",
    "an_dict['dog']= 22679\n",
    "an_dict['bird']= 68\n",
    "an_dict['frog']= 18\n",
    "an_dict['horse']= 408233\n",
    "an_dict['butterfly']= 8"
   ]
  },
  {
   "cell_type": "code",
   "execution_count": 53,
   "metadata": {},
   "outputs": [
    {
     "data": {
      "text/plain": [
       "dict_keys(['dog', 'bird', 'frog', 'horse', 'butterfly'])"
      ]
     },
     "execution_count": 53,
     "metadata": {},
     "output_type": "execute_result"
    }
   ],
   "source": [
    "an_dict.keys()"
   ]
  },
  {
   "cell_type": "code",
   "execution_count": 54,
   "metadata": {},
   "outputs": [
    {
     "name": "stdout",
     "output_type": "stream",
     "text": [
      "['dog', 'bird', 'frog', 'horse', 'butterfly']\n"
     ]
    }
   ],
   "source": [
    "animal = [\"dog\", \"bird\", \"frog\", \"horse\", \"butterfly\"]\n",
    "print(animal)"
   ]
  },
  {
   "cell_type": "code",
   "execution_count": 60,
   "metadata": {},
   "outputs": [
    {
     "name": "stdout",
     "output_type": "stream",
     "text": [
      "dog Big\n",
      "bird Big\n",
      "frog Small\n",
      "horse Big\n",
      "butterfly Small\n"
     ]
    }
   ],
   "source": [
    "#I know this isn't how you would want to do this with a legit data set that was big but I couldn't figure out \n",
    "#the if/else within a for loop for the dictionary items so here we are...tired and doing it the long handed way that wouldn't work\n",
    "#for a big dictionary\n",
    "if an_dict['dog'] > 20: \n",
    "    print(animal[0], \"Big\")\n",
    "else:\n",
    "    print(animal[0], \"Small\")\n",
    "        \n",
    "if an_dict['bird'] > 20:\n",
    "    print(animal[1], \"Big\")\n",
    "else:\n",
    "    print(animal[1], \"Small\")\n",
    "        \n",
    "if an_dict['frog'] > 20:\n",
    "    print(animal[2], \"Big\")\n",
    "else:\n",
    "    print(animal[2], \"Small\")\n",
    "        \n",
    "if an_dict['horse'] > 20:\n",
    "    print(animal[3], \"Big\")\n",
    "else:\n",
    "    print(animal[3], \"Small\")\n",
    "        \n",
    "if an_dict['butterfly'] > 20:\n",
    "    print(animal[4], \"Big\")\n",
    "else:\n",
    "    print(animal[4], \"Small\")\n"
   ]
  },
  {
   "cell_type": "markdown",
   "metadata": {},
   "source": [
    "3.\tCreate a documented python script that will open up the file “Bloom_etal_2018_Reduced_Dataset”.  Read through the file and print out the taxon name and their diadromous status. Add up all of the log body sizes and print out the total log body size for all the individuals in the file.  "
   ]
  },
  {
   "cell_type": "markdown",
   "metadata": {},
   "source": [
    "Script Name:\n",
    "\n",
    "sheets_HW3_Q3.py"
   ]
  },
  {
   "cell_type": "code",
   "execution_count": 46,
   "metadata": {},
   "outputs": [
    {
     "name": "stdout",
     "output_type": "stream",
     "text": [
      "/home/sheets/Desktop/DataScience2/Data_Science_For_Biology_II/Part.II_PythonProgramming/Homework3.ipynb\n",
      "/home/sheets/Desktop/DataScience2/Data_Science_For_Biology_II/Part.II_PythonProgramming/Bloom_etal_2018_Reduced_Dataset.csv\n",
      "taxa,logbodysize,trophic_position,Reg\n",
      "\n"
     ]
    }
   ],
   "source": [
    "#Couldn't get the pathway for this csv to open in python or in jupyter, the read and write functions weren't working\n",
    "#so I joined the pathway of the jupyter with the file Bloom that I need to open and read it in\n",
    "import os\n",
    "Homework3_path1 = os.path.abspath(\"Homework3.ipynb\")\n",
    "print(Homework3_path1)\n",
    "bloom_path = os.path.join(os.path.dirname(Homework3_path1), \"Bloom_etal_2018_Reduced_Dataset.csv\")\n",
    "print(bloom_path)\n",
    "\n",
    "#Now make an outfile to put in the 2 columns of data I want to use\n",
    "outfile = open(\"taxa_dia_bloom_filename.csv\", 'w')\n",
    "# open the bloom file in a loop to make the first line into a variable so it doesn't get counted with data\n",
    "with open(bloom_path) as bloom_file:\n",
    "    #print(bloom_file.readline())\n",
    "    bloom_file_header = bloom_file.readline()\n",
    "    print(bloom_file_header)\n",
    "#Now print out taxon name and diadromous status (I'm using outfile to print out to)\n",
    "    count=0\n",
    "    for line in bloom_file:\n",
    "        count+=1\n",
    "        stripped_line = line.strip(\"\\n\")\n",
    "        requested_output = stripped_line.split(\",\")\n",
    "        outfile.write(\"%s,%s\\n\" % (requested_output[0], requested_output[3]))\n",
    "    outfile.close()\n"
   ]
  },
  {
   "cell_type": "code",
   "execution_count": 13,
   "metadata": {},
   "outputs": [
    {
     "data": {
      "text/plain": [
       "52.079318752"
      ]
     },
     "execution_count": 13,
     "metadata": {},
     "output_type": "execute_result"
    }
   ],
   "source": [
    "#use pandas to get sum of column for total log body size and print total\n",
    "import pandas as pd\n",
    "#So I'm really struggling with this part and wish it was R so things were just already df\n",
    "df = pd.read_csv(\"Bloom_etal_2018_Reduced_Dataset.csv\")\n",
    "df\n",
    "#I used google and the most common way to do this is using pandas, so I went with this method for getting the total\n",
    "Total = df.logbodysize.sum()\n",
    "Total"
   ]
  },
  {
   "cell_type": "code",
   "execution_count": null,
   "metadata": {},
   "outputs": [],
   "source": []
  }
 ],
 "metadata": {
  "kernelspec": {
   "display_name": "Python 3",
   "language": "python",
   "name": "python3"
  },
  "language_info": {
   "codemirror_mode": {
    "name": "ipython",
    "version": 3
   },
   "file_extension": ".py",
   "mimetype": "text/x-python",
   "name": "python",
   "nbconvert_exporter": "python",
   "pygments_lexer": "ipython3",
   "version": "3.8.5"
  }
 },
 "nbformat": 4,
 "nbformat_minor": 4
}
